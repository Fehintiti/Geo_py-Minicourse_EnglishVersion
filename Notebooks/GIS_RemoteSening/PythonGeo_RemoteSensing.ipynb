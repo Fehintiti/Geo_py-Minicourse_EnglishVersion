{
 "cells": [
  {
   "cell_type": "markdown",
   "id": "1c1895d6",
   "metadata": {},
   "source": [
    "[![Binder](https://mybinder.org/badge_logo.svg)](https://mybinder.org/v2/gh/rodreras/geopy_minicurso/HEAD)"
   ]
  },
  {
   "cell_type": "markdown",
   "id": "939c9a56",
   "metadata": {},
   "source": [
    "# First Steps: Remote Sensing + Python\n",
    "\n",
    "Remote sensing is very useful in geology work, as well as other environmental sciences.\n",
    "\n",
    "However, dealing with raster data in Python is not always straightforward, as you start to handle a higher number of dimensions, making understanding more challenging.\n",
    "\n",
    "Here, we will give you an overview so you can get an initial idea and then go on to seek more content on this topic. Know that there's a universe of data and content to explore and apply to your studies."
   ]
  },
  {
   "cell_type": "code",
   "execution_count": null,
   "id": "8472dc5d",
   "metadata": {},
   "outputs": [],
   "source": [
    "import geopandas as gpd\n",
    "import pandas as pd\n",
    "import matplotlib.pyplot as plt\n",
    "import numpy as np\n",
    "\n",
    "#Library for handling raster data\n",
    "import rasterio as rio\n",
    "from rasterio.plot import show, show_hist, reshape_as_raster\n",
    "\n",
    "import earthpy.spatial as es\n",
    "import earthpy.plot as ep\n",
    "import earthpy as et\n",
    "\n",
    "#To download the image\n",
    "import urllib.request\n",
    "import os\n",
    "!pip install gdown\n",
    "import gdown"
   ]
  },
  {
   "cell_type": "code",
   "execution_count": null,
   "id": "3326bdea",
   "metadata": {},
   "outputs": [],
   "source": [
    "url_image = 'https://drive.google.com/file/d/1jbf3--R-1PY_WtGOFCu4L7Pnsz5rl-mB/view?usp=drive_link'\n",
    "\n",
    "os.mkdir('./Dataa/')\n",
    "\n",
    "path = \"./Dataa/\"  \n",
    "\n",
    "\n",
    "file_name = 'landsat5_empilhada.tif'  # defining the file name\n",
    "\n",
    "saving_path = os.path.join(path,file_name)  # creating the location to save\n",
    "\n",
    "urllib.request.urlretrieve(url_image,saving_path)  # Downloading and saving\n",
    "\n",
    "print(\"File downloaded successfully!\")"
   ]
  },
  {
   "cell_type": "code",
   "execution_count": null,
   "id": "084abff3",
   "metadata": {},
   "outputs": [],
   "source": [
    "#Alternative way, using direct google downlaod\n",
    "\n",
    "\n",
    "#As the image is large, and it's not recommended to keep it in the repository\n",
    "#I saved it on my Google Drive, and through the requests library\n",
    "#we are downloading it to the Data folder.\n",
    "\n",
    "url_image = 'https://drive.google.com/file/d/1jbf3--R-1PY_WtGOFCu4L7Pnsz5rl-mB/view?usp=drive_link'\n",
    "\n",
    "os.makedirs('./Dataaa/', exist_ok =True)\n",
    "\n",
    "path = \"./Dataaa/\"  \n",
    "\n",
    "file_name = 'landsat5_empilhada.tif'  # defining the file name\n",
    "\n",
    "saving_path = os.path.join(path,file_name)  # creating the location to save\n",
    "\n",
    "gdown.download(url_image,saving_path, quiet =False)  # Downloading and saving\n",
    "\n",
    "print(\"File downloaded successfully!\")"
   ]
  },
  {
   "cell_type": "code",
   "execution_count": null,
   "id": "a6aa3f52",
   "metadata": {},
   "outputs": [],
   "source": [
    "# Here we have a raster file with 5 stacked bands.\n",
    "\n",
    "img ='./Dataaa/landsat5_empilhada.tif'"
   ]
  },
  {
   "cell_type": "code",
   "execution_count": null,
   "id": "4aa2c88b",
   "metadata": {},
   "outputs": [],
   "source": [
    "img"
   ]
  },
  {
   "cell_type": "code",
   "execution_count": null,
   "id": "40ec500d",
   "metadata": {},
   "outputs": [],
   "source": [
    "# Opening the stacked raster\n",
    "\n",
    "with rio.open(img) as src:\n",
    "    bands = src.read()  # Reading all bands of the raster into 'bands'\n",
    "    # Copying the raster image's metadata\n",
    "    out_meta = src.profile\n"
   ]
  },
  {
   "cell_type": "code",
   "execution_count": null,
   "id": "d3e79fe4",
   "metadata": {},
   "outputs": [],
   "source": [
    "# opening stacked raster\n",
    "with rio.open(img) as src:\n",
    "    bands = src.read()\n",
    "    # copying the raster image metadata\n",
    "    out_meta = src.profile"
   ]
  },
  {
   "cell_type": "code",
   "execution_count": null,
   "id": "49150892",
   "metadata": {},
   "outputs": [],
   "source": [
    "# using the earthplot function to plot all the bands of the file\n",
    "ep.plot_bands(bands,\n",
    "              cbar=False,\n",
    "              cmap='gist_earth')\n",
    "plt.show()"
   ]
  },
  {
   "cell_type": "markdown",
   "id": "dabcef9e",
   "metadata": {},
   "source": [
    "## Making the First Compositions\n",
    "\n",
    "An important thing! Even though the bands are from 1 to 6, when we write the code to plot, we have to remember that Python uses indices. That is, the bands will be understood from 0 to 5."
   ]
  },
  {
   "cell_type": "code",
   "execution_count": null,
   "id": "798b677e",
   "metadata": {},
   "outputs": [],
   "source": [
    "# creating a grid of 2 figures\n",
    "fig, ax = plt.subplots(ncols=2, nrows=1, figsize=(10,8), sharey=True)\n",
    "\n",
    "# figure 0,0\n",
    "ep.plot_rgb(bands,\n",
    "            rgb=[2,3,1],\n",
    "            stretch=True,\n",
    "            figsize=(5, 6),\n",
    "            ax=ax[0],\n",
    "            title=\"RGB For Agriculture\")\n",
    "\n",
    "# figure 0,1\n",
    "ep.plot_rgb(bands,\n",
    "            rgb=[2,1,0],\n",
    "            stretch=True,\n",
    "            figsize=(5, 6),\n",
    "            ax=ax[1],\n",
    "            title=\"RGB True Color Image\")\n",
    "\n",
    "plt.show()"
   ]
  },
  {
   "cell_type": "markdown",
   "id": "ae756f1f",
   "metadata": {},
   "source": [
    "# Generating Histograms for Each Band"
   ]
  },
  {
   "cell_type": "code",
   "execution_count": null,
   "id": "4928b7b6",
   "metadata": {},
   "outputs": [],
   "source": [
    "ep.hist(bands,\n",
    "        title=[f'Band-{i+1}' for i in range(1, 7)], \n",
    "        cols=3, \n",
    "        alpha=0.5, \n",
    "        figsize=(12, 10))\n",
    "\n",
    "plt.show()"
   ]
  },
  {
   "cell_type": "markdown",
   "id": "c554a588",
   "metadata": {},
   "source": [
    "# Saving Image"
   ]
  },
  {
   "cell_type": "code",
   "execution_count": null,
   "id": "a3869486",
   "metadata": {},
   "outputs": [],
   "source": [
    "# stacking the bands with numpy\n",
    "rgb = np.stack((bands[2], bands[1], bands[0]))"
   ]
  },
  {
   "cell_type": "code",
   "execution_count": null,
   "id": "5098520c",
   "metadata": {},
   "outputs": [],
   "source": [
    "# updating metadata\n",
    "out_meta.update({\"driver\": \"GTiff\",\n",
    "                 \"height\": bands.shape[1],\n",
    "                 \"width\": bands.shape[2],\n",
    "                 \"count\": 3,\n",
    "                 })\n",
    "\n",
    "# saving the file\n",
    "with rio.open('./Dataaa/RGB_image.tif', \"w\", **out_meta) as dest:\n",
    "   \n",
    "    dest.write(rgb,  # here, we place where the image was stacked, in this case, rgb\n",
    "               [1,2,3]  # here we indicate the number of bands and their order\n",
    "               )"
   ]
  },
  {
   "cell_type": "markdown",
   "id": "1f80ef73",
   "metadata": {},
   "source": [
    "## Test!\n",
    "\n",
    "Now that you've exported your image, open QGIS and load the image. It will open as an RGB true color composition."
   ]
  },
  {
   "cell_type": "code",
   "execution_count": null,
   "id": "77b9562b",
   "metadata": {},
   "outputs": [],
   "source": []
  }
 ],
 "metadata": {
  "kernelspec": {
   "display_name": "Python 3 (ipykernel)",
   "language": "python",
   "name": "python3"
  },
  "language_info": {
   "codemirror_mode": {
    "name": "ipython",
    "version": 3
   },
   "file_extension": ".py",
   "mimetype": "text/x-python",
   "name": "python",
   "nbconvert_exporter": "python",
   "pygments_lexer": "ipython3",
   "version": "3.11.5"
  }
 },
 "nbformat": 4,
 "nbformat_minor": 5
}
